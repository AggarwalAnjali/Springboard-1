{
 "cells": [
  {
   "cell_type": "markdown",
   "metadata": {},
   "source": [
    "# What is the True Normal Human Body Temperature? \n",
    "\n",
    "#### Background\n",
    "\n",
    "The mean normal body temperature was held to be 37$^{\\circ}$C or 98.6$^{\\circ}$F for more than 120 years since it was first conceptualized and reported by Carl Wunderlich in a famous 1868 book. But, is this value statistically correct?"
   ]
  },
  {
   "cell_type": "markdown",
   "metadata": {},
   "source": [
    "<h3>Exercises</h3>\n",
    "\n",
    "<p>In this exercise, you will analyze a dataset of human body temperatures and employ the concepts of hypothesis testing, confidence intervals, and statistical significance.</p>\n",
    "\n",
    "<p>Answer the following questions <b>in this notebook below and submit to your Github account</b>.</p> \n",
    "\n",
    "<ol>\n",
    "<li>  Is the distribution of body temperatures normal? \n",
    "    <ul>\n",
    "    <li> Although this is not a requirement for the Central Limit Theorem to hold (read the introduction on Wikipedia's page about the CLT carefully: https://en.wikipedia.org/wiki/Central_limit_theorem), it gives us some peace of mind that the population may also be normally distributed if we assume that this sample is representative of the population.\n",
    "    <li> Think about the way you're going to check for the normality of the distribution. Graphical methods are usually used first, but there are also other ways: https://en.wikipedia.org/wiki/Normality_test\n",
    "    </ul>\n",
    "<li>  Is the sample size large? Are the observations independent?\n",
    "    <ul>\n",
    "    <li> Remember that this is a condition for the Central Limit Theorem, and hence the statistical tests we are using, to apply.\n",
    "    </ul>\n",
    "<li>  Is the true population mean really 98.6 degrees F?\n",
    "    <ul>\n",
    "    <li> First, try a bootstrap hypothesis test. (datacamp code)\n",
    "    <li> Now, let's try frequentist statistical testing. Would you use a one-sample or two-sample test? Why?\n",
    "    <li> In this situation, is it appropriate to use the $t$ or $z$ statistic? \n",
    "    <li> Now try using the other test. How is the result be different? Why?\n",
    "    </ul>\n",
    "<li>  Draw a small sample of size 10 from the data and repeat both frequentist tests. \n",
    "    <ul>\n",
    "    <li> Which one is the correct one to use? \n",
    "    <li> What do you notice? What does this tell you about the difference in application of the $t$ and $z$ statistic?\n",
    "    </ul>\n",
    "<li>  At what temperature should we consider someone's temperature to be \"abnormal\"?\n",
    "    <ul>\n",
    "    <li> As in the previous example, try calculating everything using the boostrap approach, as well as the frequentist approach.\n",
    "    <li> Start by computing the margin of error and confidence interval. When calculating the confidence interval, keep in mind that you should use the appropriate formula for one draw, and not N draws.\n",
    "    </ul>\n",
    "<li>  Is there a significant difference between males and females in normal temperature?\n",
    "    <ul>\n",
    "    <li> What testing approach did you use and why?\n",
    "    <li> Write a story with your conclusion in the context of the original problem.\n",
    "    </ul>\n",
    "</ol>\n",
    "\n",
    "You can include written notes in notebook cells using Markdown: \n",
    "   - In the control panel at the top, choose Cell > Cell Type > Markdown\n",
    "   - Markdown syntax: http://nestacms.com/docs/creating-content/markdown-cheat-sheet\n",
    "\n",
    "#### Resources\n",
    "\n",
    "+ Information and data sources: http://www.amstat.org/publications/jse/datasets/normtemp.txt, http://www.amstat.org/publications/jse/jse_data_archive.htm\n",
    "+ Markdown syntax: http://nestacms.com/docs/creating-content/markdown-cheat-sheet\n",
    "\n",
    "****"
   ]
  },
  {
   "cell_type": "code",
   "execution_count": 4,
   "metadata": {
    "collapsed": true
   },
   "outputs": [],
   "source": [
    "# Importing pandas, numpy  and matplotlib. \n",
    "\n",
    "%matplotlib inline\n",
    "import pandas as pd\n",
    "import numpy as np\n",
    "import matplotlib.pyplot as plt\n",
    "\n",
    "df = pd.read_csv('data/human_body_temperature.csv')"
   ]
  },
  {
   "cell_type": "code",
   "execution_count": 5,
   "metadata": {},
   "outputs": [
    {
     "data": {
      "text/html": [
       "<div>\n",
       "<style>\n",
       "    .dataframe thead tr:only-child th {\n",
       "        text-align: right;\n",
       "    }\n",
       "\n",
       "    .dataframe thead th {\n",
       "        text-align: left;\n",
       "    }\n",
       "\n",
       "    .dataframe tbody tr th {\n",
       "        vertical-align: top;\n",
       "    }\n",
       "</style>\n",
       "<table border=\"1\" class=\"dataframe\">\n",
       "  <thead>\n",
       "    <tr style=\"text-align: right;\">\n",
       "      <th></th>\n",
       "      <th>temperature</th>\n",
       "      <th>gender</th>\n",
       "      <th>heart_rate</th>\n",
       "    </tr>\n",
       "  </thead>\n",
       "  <tbody>\n",
       "    <tr>\n",
       "      <th>0</th>\n",
       "      <td>99.3</td>\n",
       "      <td>F</td>\n",
       "      <td>68.0</td>\n",
       "    </tr>\n",
       "    <tr>\n",
       "      <th>1</th>\n",
       "      <td>98.4</td>\n",
       "      <td>F</td>\n",
       "      <td>81.0</td>\n",
       "    </tr>\n",
       "    <tr>\n",
       "      <th>2</th>\n",
       "      <td>97.8</td>\n",
       "      <td>M</td>\n",
       "      <td>73.0</td>\n",
       "    </tr>\n",
       "    <tr>\n",
       "      <th>3</th>\n",
       "      <td>99.2</td>\n",
       "      <td>F</td>\n",
       "      <td>66.0</td>\n",
       "    </tr>\n",
       "    <tr>\n",
       "      <th>4</th>\n",
       "      <td>98.0</td>\n",
       "      <td>F</td>\n",
       "      <td>73.0</td>\n",
       "    </tr>\n",
       "  </tbody>\n",
       "</table>\n",
       "</div>"
      ],
      "text/plain": [
       "   temperature gender  heart_rate\n",
       "0         99.3      F        68.0\n",
       "1         98.4      F        81.0\n",
       "2         97.8      M        73.0\n",
       "3         99.2      F        66.0\n",
       "4         98.0      F        73.0"
      ]
     },
     "execution_count": 5,
     "metadata": {},
     "output_type": "execute_result"
    }
   ],
   "source": [
    " # Exploring  the data: Checking the rows and columns of the data. \n",
    "df.head(5)"
   ]
  },
  {
   "cell_type": "code",
   "execution_count": 6,
   "metadata": {},
   "outputs": [
    {
     "data": {
      "text/html": [
       "<div>\n",
       "<style>\n",
       "    .dataframe thead tr:only-child th {\n",
       "        text-align: right;\n",
       "    }\n",
       "\n",
       "    .dataframe thead th {\n",
       "        text-align: left;\n",
       "    }\n",
       "\n",
       "    .dataframe tbody tr th {\n",
       "        vertical-align: top;\n",
       "    }\n",
       "</style>\n",
       "<table border=\"1\" class=\"dataframe\">\n",
       "  <thead>\n",
       "    <tr style=\"text-align: right;\">\n",
       "      <th></th>\n",
       "      <th>temperature</th>\n",
       "      <th>heart_rate</th>\n",
       "    </tr>\n",
       "  </thead>\n",
       "  <tbody>\n",
       "    <tr>\n",
       "      <th>count</th>\n",
       "      <td>130.000000</td>\n",
       "      <td>130.000000</td>\n",
       "    </tr>\n",
       "    <tr>\n",
       "      <th>mean</th>\n",
       "      <td>98.249231</td>\n",
       "      <td>73.761538</td>\n",
       "    </tr>\n",
       "    <tr>\n",
       "      <th>std</th>\n",
       "      <td>0.733183</td>\n",
       "      <td>7.062077</td>\n",
       "    </tr>\n",
       "    <tr>\n",
       "      <th>min</th>\n",
       "      <td>96.300000</td>\n",
       "      <td>57.000000</td>\n",
       "    </tr>\n",
       "    <tr>\n",
       "      <th>25%</th>\n",
       "      <td>97.800000</td>\n",
       "      <td>69.000000</td>\n",
       "    </tr>\n",
       "    <tr>\n",
       "      <th>50%</th>\n",
       "      <td>98.300000</td>\n",
       "      <td>74.000000</td>\n",
       "    </tr>\n",
       "    <tr>\n",
       "      <th>75%</th>\n",
       "      <td>98.700000</td>\n",
       "      <td>79.000000</td>\n",
       "    </tr>\n",
       "    <tr>\n",
       "      <th>max</th>\n",
       "      <td>100.800000</td>\n",
       "      <td>89.000000</td>\n",
       "    </tr>\n",
       "  </tbody>\n",
       "</table>\n",
       "</div>"
      ],
      "text/plain": [
       "       temperature  heart_rate\n",
       "count   130.000000  130.000000\n",
       "mean     98.249231   73.761538\n",
       "std       0.733183    7.062077\n",
       "min      96.300000   57.000000\n",
       "25%      97.800000   69.000000\n",
       "50%      98.300000   74.000000\n",
       "75%      98.700000   79.000000\n",
       "max     100.800000   89.000000"
      ]
     },
     "execution_count": 6,
     "metadata": {},
     "output_type": "execute_result"
    }
   ],
   "source": [
    "df.describe()"
   ]
  },
  {
   "cell_type": "markdown",
   "metadata": {},
   "source": [
    "### Q1. Is the distribution of body temperatures normal? \n",
    "\n",
    "There are three ways to determine if the body temperature is normal: \n",
    "\n",
    "a) Histograms: By comparing a histogram of the sample data to a normal probability curve\n",
    "\n",
    "b) Normality Tests: Back-of-the-envelope test\n",
    "\n",
    "c) Q-Q plot: Plotting Sample Vs Theoretical Quantiles "
   ]
  },
  {
   "cell_type": "markdown",
   "metadata": {},
   "source": [
    "Hypothesis: \n",
    "    \n",
    "    Null Hypothesis,            Ho: Normal Distribution \n",
    "        \n",
    "    Alternative Hypothesis,     Ha: Not a normal distribution \n",
    "    \n",
    "    Significance                α = 0.05"
   ]
  },
  {
   "cell_type": "markdown",
   "metadata": {},
   "source": [
    "## (I) Visualization of the Distribution of Human Body Temperatures"
   ]
  },
  {
   "cell_type": "code",
   "execution_count": 25,
   "metadata": {},
   "outputs": [
    {
     "data": {
      "image/png": "[encoded data removed]",
      "text/plain": [
       "<matplotlib.figure.Figure at 0x1a139aae48>"
      ]
     },
     "metadata": {},
     "output_type": "display_data"
    },
    {
     "name": "stdout",
     "output_type": "stream",
     "text": [
      "p-value = 0.258747986349\n"
     ]
    }
   ],
   "source": [
    "#a) Histograms: By comparing a histogram of the sample data to a normal probability and running a normal test.   \n",
    "\n",
    "import seaborn as sns\n",
    "plt.figure(figsize = (16,6))\n",
    "sns.distplot(df['temperature'], bins = 20)\n",
    "plt.xticks(df['temperature'], rotation = 'vertical')\n",
    "plt.title('Temperature Distribution')\n",
    "plt.show()\n",
    "\n",
    "# Norm Test from scipy \n",
    "from scipy.stats import *\n",
    "statistic, pvalue = stats.normaltest(df['temperature'])\n",
    "print('p-value = ' + str(pvalue))"
   ]
  },
  {
   "cell_type": "markdown",
   "metadata": {},
   "source": [
    "**Visually the distribution appears to be normally distributed.**"
   ]
  },
  {
   "cell_type": "code",
   "execution_count": 26,
   "metadata": {
    "scrolled": true
   },
   "outputs": [
    {
     "name": "stdout",
     "output_type": "stream",
     "text": [
      "Normal Distribution (Fail to reject Ho)\n"
     ]
    }
   ],
   "source": [
    "# Normal Test Results \n",
    "\n",
    "if pvalue < 0.05:\n",
    "    print('Not a Normal Distribution (Reject Ho)')\n",
    "else :\n",
    "    print('Normal Distribution (Fail to reject Ho)')"
   ]
  },
  {
   "cell_type": "markdown",
   "metadata": {},
   "source": [
    "The normaltest from scipy showed that the pvalue of 0.26 which is lesser than the assumed statistical significance value 0.05. So, we fail to reject null hypothesis suggesting that temperatues are normally distributed."
   ]
  },
  {
   "cell_type": "code",
   "execution_count": 9,
   "metadata": {
    "collapsed": true
   },
   "outputs": [],
   "source": [
    "# b) Q-Q plot: Importing seed, randn and qqplot. \n",
    "from numpy.random import seed\n",
    "from numpy.random import randn\n",
    "from statsmodels.graphics.gofplots import qqplot\n",
    "from matplotlib import pyplot"
   ]
  },
  {
   "cell_type": "code",
   "execution_count": 10,
   "metadata": {
    "scrolled": false
   },
   "outputs": [
    {
     "data": {
      "image/png": "[encoded data removed]",
      "text/plain": [
       "<matplotlib.figure.Figure at 0x10a3bee80>"
      ]
     },
     "metadata": {},
     "output_type": "display_data"
    }
   ],
   "source": [
    "# seed the random number generator\n",
    "seed(1)\n",
    "# generate univariate observations\n",
    "data = 5 * randn(100) + 50\n",
    "# q-q plot\n",
    "qqplot(data, line='s')\n",
    "pyplot.show()"
   ]
  },
  {
   "cell_type": "code",
   "execution_count": 11,
   "metadata": {
    "scrolled": true
   },
   "outputs": [
    {
     "data": {
      "image/png": "[encoded data removed]",
      "text/plain": [
       "<matplotlib.figure.Figure at 0x1a132d6978>"
      ]
     },
     "metadata": {},
     "output_type": "display_data"
    }
   ],
   "source": [
    "# Plotting Sample Temperature with Q-Qplot to see the distribution of the temperatures. \n",
    "qqplot(df['temperature'], line='s')\n",
    "pyplot.show()"
   ]
  },
  {
   "cell_type": "markdown",
   "metadata": {},
   "source": [
    "From the qq plot, the overlap of samples points with the straight line shows strong correlation between the samples data points and theoretical quantiles suggesting that the data are normally distributed. "
   ]
  },
  {
   "cell_type": "markdown",
   "metadata": {},
   "source": [
    "**The a) Data visualiztion with histogram, b) the normal test and c) the correlation in the QQ plots strongly supports that the body temperature has a normal distribution.** "
   ]
  },
  {
   "cell_type": "markdown",
   "metadata": {},
   "source": [
    "### Qs 2a. Is the sample size large? \n"
   ]
  },
  {
   "cell_type": "code",
   "execution_count": 12,
   "metadata": {},
   "outputs": [
    {
     "name": "stdout",
     "output_type": "stream",
     "text": [
      "The Sample Size =130\n"
     ]
    }
   ],
   "source": [
    "print ('The Sample Size ='+ str(len(df)))   "
   ]
  },
  {
   "cell_type": "markdown",
   "metadata": {},
   "source": [
    "According to Central Limit Theorem (CTL) when the random sampling size is large (n ≥ 30), the distribution tends to be normally distributed. Here we have a sample size of 130 which is sufficently large sample size. "
   ]
  },
  {
   "cell_type": "markdown",
   "metadata": {
    "collapsed": true
   },
   "source": [
    "### Qs 2b. Are the observations independent?  "
   ]
  },
  {
   "cell_type": "markdown",
   "metadata": {},
   "source": [
    "Yes, the observations are made independently and each observation is a body temp of an indiviual. This is a biological observation and each sample is measured separately so there is no interdependence between samples.  "
   ]
  },
  {
   "cell_type": "markdown",
   "metadata": {},
   "source": [
    "### Q3a. Is the true population mean really 98.6 degrees F?\n"
   ]
  },
  {
   "cell_type": "markdown",
   "metadata": {},
   "source": [
    "We can answer the above question by proposing Null and Alternative Hypothesis. \n",
    "\n",
    "Null Hypothesis,          **Ho: Mean(mu)**    = 98.6 degrees F\n",
    "\n",
    "Alternative Hypothesis,   **Ha: Mean(mu)**   != 98.6 degrees F\n",
    "\n",
    "Significance,              α = 0.05"
   ]
  },
  {
   "cell_type": "markdown",
   "metadata": {},
   "source": [
    " ### Qs 3b. Bootstrap Hypothesis Test"
   ]
  },
  {
   "cell_type": "code",
   "execution_count": 29,
   "metadata": {
    "collapsed": true
   },
   "outputs": [],
   "source": [
    "# Define the bootstrap replicate function\n",
    "def bootstrap_replicate_1d(data, func):\n",
    "    \"\"\"Generate bootstrap replicate of 1D data\"\"\"\n",
    "    return func(np.random.choice(data, size=len(data)))\n",
    "\n",
    "# Drawing Bootstrap replicates using the for loop\n",
    "def draw_bs_reps(data, func, size=1):\n",
    "    \"\"\"Draw bootstrap replicates.\"\"\"\n",
    "\n",
    "    # Initialize array of replicates: bs_replicates\n",
    "    bs_replicates = np.empty(size)\n",
    "\n",
    "    for i in range(size):\n",
    "        bs_replicates[i] = bootstrap_replicate_1d(data, func)\n",
    "\n",
    "    return bs_replicates"
   ]
  },
  {
   "cell_type": "code",
   "execution_count": 74,
   "metadata": {},
   "outputs": [],
   "source": [
    " # Generating bootstrap replicates of mean temperatures\n",
    "    bs_replicates = draw_bs_reps(df['temperature'], np.mean, size= 10000)"
   ]
  },
  {
   "cell_type": "code",
   "execution_count": 75,
   "metadata": {},
   "outputs": [
    {
     "data": {
      "image/png": "[encoded data removed]",
      "text/plain": [
       "<matplotlib.figure.Figure at 0x1a13b12550>"
      ]
     },
     "metadata": {},
     "output_type": "display_data"
    }
   ],
   "source": [
    "# Plotting histogram of bootstrap replicate, mean body temprature \n",
    "_ = plt.hist(bs_replicates, bins = 15, normed = True)\n",
    "_ = plt.xlabel(\"Mean Body Temperatures in F\")\n",
    "_ = plt.ylabel('PDF')\n",
    "\n",
    "plt.show()"
   ]
  },
  {
   "cell_type": "code",
   "execution_count": 76,
   "metadata": {},
   "outputs": [
    {
     "name": "stdout",
     "output_type": "stream",
     "text": [
      "SEM : 0.0640566146952    STD : 0.063958205168\n"
     ]
    }
   ],
   "source": [
    "# Compute and print SEM\n",
    "sem = np.std(df['temperature']) / np.sqrt(len(df['temperature']))\n",
    "\n",
    "# Compute and print standard deviation of bootstrap replicates\n",
    "std = np.std(bs_replicates)\n",
    "\n",
    "print('SEM : ' + str(sem) + '    STD : ' + str(std) )"
   ]
  },
  {
   "cell_type": "code",
   "execution_count": 77,
   "metadata": {
    "scrolled": false
   },
   "outputs": [
    {
     "name": "stdout",
     "output_type": "stream",
     "text": [
      "95% confidence interval = [ 98.12615385  98.37538462]\n"
     ]
    }
   ],
   "source": [
    "# Compute confidence interval of bootstrap replicates\n",
    "conf_int = np.percentile(bs_replicates, [2.5, 97.5])\n",
    "print('95% confidence interval =', conf_int)"
   ]
  },
  {
   "cell_type": "markdown",
   "metadata": {},
   "source": [
    "**Note**: The mean body temperature 98.6 F does not lie between the confidence interval. "
   ]
  },
  {
   "cell_type": "code",
   "execution_count": 84,
   "metadata": {
    "scrolled": false
   },
   "outputs": [
    {
     "name": "stdout",
     "output_type": "stream",
     "text": [
      "p =  10000\n"
     ]
    }
   ],
   "source": [
    "# Make an array of translated mean such that its mean is 98.6 \n",
    "translated_temp = df['temperature'] -np.mean(df['temperature']) + 98.6\n",
    "\n",
    "\n",
    "def diff_from_popmean(data, popmean = 98.6):\n",
    "    return np.mean(data) - popmean\n",
    "\n",
    "\n",
    "\n",
    "# Take bootstrap replicates of mean\n",
    "bs_replicates = draw_bs_reps(translated_temp, np.mean, 10000)\n",
    "diff_obs = diff_from_popmean(temps)\n",
    "\n",
    "\n",
    "# Compute fraction of replicates that are less than the observed mean. \n",
    "p = np.sum(bs_replicates >= np.mean(df['temperature']) / 10000)\n",
    "\n",
    "# Print the p-value\n",
    "print('p = ', p)"
   ]
  },
  {
   "cell_type": "code",
   "execution_count": 86,
   "metadata": {},
   "outputs": [
    {
     "name": "stdout",
     "output_type": "stream",
     "text": [
      "p-value= 0.0\n"
     ]
    }
   ],
   "source": [
    "def diff_from_popmean(data, popmean = 98.6):\n",
    "    return np.mean(data) - popmean\n",
    "mu = np.mean(df['temperature'])\n",
    "temps_shifted = df['temperature'] - mu + 98.6\n",
    "diff_obs = diff_from_popmean(df['temperature'])\n",
    "bs_replicates = draw_bs_reps(temps_shifted, diff_from_popmean, 10000)\n",
    "p = np.sum(bs_replicates <= diff_obs) / 10000\n",
    "print('p-value=',p)"
   ]
  },
  {
   "cell_type": "markdown",
   "metadata": {},
   "source": [
    "**Conclusion**: The p value is low, so we have to dismiss the null hypothesis and conclude from the data set that the human body temperature is not 98.6 F.   "
   ]
  },
  {
   "cell_type": "markdown",
   "metadata": {},
   "source": [
    "### Qs 3c. t and z - Single Sample Test. \n",
    "\n",
    "Since n> 30 we can use Z test to get more insights into the population distribution. With larger samples we use Z test and smaller samples we use t test. In this case we only have one observation so we will use one sample z and t test. Incase variance is not known, t-test can also be done, or the standard deviation can be calculated using the sample standard deviation (Khan Academy Course: Significance tests (hypothesis testing))"
   ]
  },
  {
   "cell_type": "code",
   "execution_count": 13,
   "metadata": {},
   "outputs": [
    {
     "name": "stdout",
     "output_type": "stream",
     "text": [
      "z_score : -5.45482329236    p_value : 4.9021570141e-08\n"
     ]
    }
   ],
   "source": [
    "# Hypothesis test using Z test \n",
    "from statsmodels.stats.weightstats import ztest\n",
    "z_score, p_value_z = ztest(df['temperature'], value = 98.6)\n",
    "print('z_score : ' + str(z_score) + '    p_value : ' + str(p_value_z) )"
   ]
  },
  {
   "cell_type": "code",
   "execution_count": 58,
   "metadata": {
    "scrolled": true
   },
   "outputs": [
    {
     "name": "stdout",
     "output_type": "stream",
     "text": [
      "t_score : -5.45482329236    p_value : 2.41063204156e-07\n"
     ]
    }
   ],
   "source": [
    "# Hypothesis test using t test\n",
    "t_score, p_value_t = stats.ttest_1samp(df['temperature'], 98.6)   \n",
    "print('t_score : ' + str(t_score) + '    p_value : ' + str(p_value_t) )"
   ]
  },
  {
   "cell_type": "markdown",
   "metadata": {},
   "source": [
    "**Conclusion:** Since the p-value mean is low, we can dismiss the null hypothesis. The body temperatures from thsi datasignificantly different from 98.6"
   ]
  },
  {
   "cell_type": "markdown",
   "metadata": {},
   "source": [
    "### Qs 4. Taking small sample of size 10 from the data and repeat the frequentist tests."
   ]
  },
  {
   "cell_type": "markdown",
   "metadata": {},
   "source": [
    "In this case we will use t-test as the sample size is small and population variance is not known. "
   ]
  },
  {
   "cell_type": "code",
   "execution_count": 16,
   "metadata": {
    "collapsed": true
   },
   "outputs": [],
   "source": [
    "import random\n",
    "Temp_10 = random.sample(list(df['temperature']), 10)"
   ]
  },
  {
   "cell_type": "code",
   "execution_count": 17,
   "metadata": {
    "scrolled": true
   },
   "outputs": [
    {
     "data": {
      "text/plain": [
       "[98.200000000000003,\n",
       " 98.099999999999994,\n",
       " 97.099999999999994,\n",
       " 98.599999999999994,\n",
       " 96.700000000000003,\n",
       " 97.299999999999997,\n",
       " 98.5,\n",
       " 98.0,\n",
       " 98.799999999999997,\n",
       " 98.799999999999997]"
      ]
     },
     "execution_count": 17,
     "metadata": {},
     "output_type": "execute_result"
    }
   ],
   "source": [
    "Temp_10"
   ]
  },
  {
   "cell_type": "code",
   "execution_count": 18,
   "metadata": {
    "scrolled": true
   },
   "outputs": [
    {
     "name": "stdout",
     "output_type": "stream",
     "text": [
      "z_score_10 : -2.52112197149    p_value_10 : 0.0116981295143\n"
     ]
    }
   ],
   "source": [
    "# Running Z_test on the sample_10 using ztest from statsmodels.stats.weightstat. \n",
    "from statsmodels.stats.weightstats import ztest\n",
    "z_score_10, p_value_z_10 = ztest(Temp_10, value = 98.6)\n",
    "print('z_score_10 : ' + str(z_score_10) + '    p_value_10 : ' + str(p_value_z_10) )"
   ]
  },
  {
   "cell_type": "code",
   "execution_count": 59,
   "metadata": {
    "scrolled": true
   },
   "outputs": [
    {
     "name": "stdout",
     "output_type": "stream",
     "text": [
      "t_score : -5.45482329236    p_value : 2.41063204156e-07\n"
     ]
    }
   ],
   "source": [
    "# Running t_test on sample_10. \n",
    "t_score_10, p_value_t_10 = stats.ttest_1samp(Temp_10, 98.6)     \n",
    "print('t_score : ' + str(t_score) + '    p_value : ' + str(p_value_t) )"
   ]
  },
  {
   "cell_type": "markdown",
   "metadata": {},
   "source": [
    "**Note:** The t_score is same as the z_score value where as the p value has changed."
   ]
  },
  {
   "cell_type": "markdown",
   "metadata": {},
   "source": [
    "**Conclusion**: As we increase our sample size, our t-test will converge to yield a similar result as a z-test. We also find that our p-value in this test is even smaller than our t-test and suggests an even smaller probability that we would observe a population mean greater than 98.6"
   ]
  },
  {
   "cell_type": "markdown",
   "metadata": {},
   "source": [
    "### Qs 5. At what temperature should we consider someone's temperature to be \"abnormal\"?"
   ]
  },
  {
   "cell_type": "markdown",
   "metadata": {},
   "source": [
    "###  Qs 5a. Bootstrap Hypothesis Test"
   ]
  },
  {
   "cell_type": "code",
   "execution_count": 89,
   "metadata": {
    "scrolled": false
   },
   "outputs": [
    {
     "name": "stdout",
     "output_type": "stream",
     "text": [
      "95% confidence interval = [ 98.12538462  98.37463462]\n"
     ]
    }
   ],
   "source": [
    "# Generating bootstrap replicates of mean temperatures\n",
    "bs_replicates = draw_bs_reps(df['temperature'], np.mean, size= 10000)\n",
    "# Compute confidence interval of bootstrap replicates\n",
    "conf_int = np.percentile(bs_replicates, [2.5, 97.5])\n",
    "print('95% confidence interval =', conf_int)"
   ]
  },
  {
   "cell_type": "markdown",
   "metadata": {},
   "source": [
    "Any temperature above or below these values can be considered abnormal. "
   ]
  },
  {
   "cell_type": "markdown",
   "metadata": {},
   "source": [
    "### Qs 5b. t and z - Single Sample Test."
   ]
  },
  {
   "cell_type": "markdown",
   "metadata": {},
   "source": [
    "We can set up a significance level of 95% to be certain that the temperature is abnormal. For 95% Z score = 1.96. "
   ]
  },
  {
   "cell_type": "markdown",
   "metadata": {},
   "source": [
    "Margin of error = Z * (std of sample)/sqrt(n) where 'n' is the sample size."
   ]
  },
  {
   "cell_type": "code",
   "execution_count": 20,
   "metadata": {},
   "outputs": [
    {
     "name": "stdout",
     "output_type": "stream",
     "text": [
      "Margin of Error: 0.126036629835\n"
     ]
    }
   ],
   "source": [
    "Margin_of_error = 1.96 * 0.733183/np.sqrt(len(df['temperature']))\n",
    "print('Margin of Error: ' + str(Margin_of_error))"
   ]
  },
  {
   "cell_type": "code",
   "execution_count": 61,
   "metadata": {},
   "outputs": [
    {
     "name": "stdout",
     "output_type": "stream",
     "text": [
      "Confidence Interval : (98.124512844495854, 98.375487155504146)\n",
      "At the 95% level, the lower bound of our confidence interval is  98.1245128445  and the upper bound is  98.3754871555\n"
     ]
    }
   ],
   "source": [
    "# mean and std value were plugged in to calculate the confidence interval of temperature. \n",
    "conf_int = norm.interval(0.95, loc= 98.25, scale=0.73/np.sqrt(df['temperature'].count()))\n",
    "print('Confidence Interval : ' + str(conf_int))\n",
    "\n",
    "print('At the 95% level, the lower bound of our confidence interval is ',conf_int[0], \n",
    "      ' and the upper bound is ',conf_int[1])\n"
   ]
  },
  {
   "cell_type": "markdown",
   "metadata": {},
   "source": [
    "We can see that the confidence interval lies between 98.123 and 98.374. So, any temperatures outside this range are to be considered \"abnormal\""
   ]
  },
  {
   "cell_type": "markdown",
   "metadata": {},
   "source": [
    "### Qs 6. Is there a significant difference between males and females in normal temperature?"
   ]
  },
  {
   "cell_type": "markdown",
   "metadata": {},
   "source": [
    "### t and z - Two-tailed Two Sample Test."
   ]
  },
  {
   "cell_type": "markdown",
   "metadata": {},
   "source": [
    "I will conduct a two-tailed, two-sample t-test on the temperatures of the male and female populations.\n",
    "\n",
    "Ho: mu (males) = mu(females)\n",
    "\n",
    "HA:  mu (males) != mu(females)   \n",
    "\n",
    "If the p-value is lower than 0.05 we would reject the Null, that the two means are equal."
   ]
  },
  {
   "cell_type": "code",
   "execution_count": null,
   "metadata": {
    "collapsed": true
   },
   "outputs": [],
   "source": [
    "Plotting ECDFs for Men and Women body temperatures. \n"
   ]
  },
  {
   "cell_type": "markdown",
   "metadata": {},
   "source": [
    "**Method** By creating an array of male and female temperatures. "
   ]
  },
  {
   "cell_type": "code",
   "execution_count": 78,
   "metadata": {},
   "outputs": [
    {
     "name": "stdout",
     "output_type": "stream",
     "text": [
      "t_score : -2.28543453817    p_value : 0.0239318831224\n"
     ]
    }
   ],
   "source": [
    "# Creating arrays for male temperatures and female temperatures and calculating \n",
    "temp_male = np.array(df.temperature[df.gender=='M'])\n",
    "temp_female = np.array(df.temperature[df.gender=='F'])\n",
    "\n",
    "#Calculating the T-test for the means of TWO INDEPENDENT samples of scores.\n",
    "t_score, p_value_t= stats.ttest_ind(temp_male,temp_female)\n",
    "print('t_score : ' + str(t_score) + '    p_value : ' + str(p_value_t) )"
   ]
  },
  {
   "cell_type": "code",
   "execution_count": 79,
   "metadata": {},
   "outputs": [
    {
     "name": "stdout",
     "output_type": "stream",
     "text": [
      "Conclusion: Body Temperature between men and women is different (Reject Ho)\n"
     ]
    }
   ],
   "source": [
    "# Conclusions\n",
    "\n",
    "if p_value_t < 0.05:\n",
    "    print('Conclusion: Body Temperature between men and women is different (Reject Ho)')\n",
    "else :\n",
    "    print('Conclusion: Body Temperature between men and women is not different (Fail to reject Ho)')"
   ]
  },
  {
   "cell_type": "markdown",
   "metadata": {},
   "source": [
    "**Thoughts:** From the hypothesis testing on the sample population we will reject Ho which states that there is no difference between the body temperatures of men and women. To further validate we may want to increase the power of analysis by either increasing the sample size or decrease the significance levels to avoid the Type I error.  "
   ]
  },
  {
   "cell_type": "markdown",
   "metadata": {
    "collapsed": true
   },
   "source": [
    "Other methods that can be used for comparing these two temperatures is \"A two-sample bootstrap hypothesis test for difference of means.\" "
   ]
  },
  {
   "cell_type": "code",
   "execution_count": null,
   "metadata": {
    "collapsed": true
   },
   "outputs": [],
   "source": []
  }
 ],
 "metadata": {
  "kernelspec": {
   "display_name": "Python 3",
   "language": "python",
   "name": "python3"
  },
  "language_info": {
   "codemirror_mode": {
    "name": "ipython",
    "version": 3
   },
   "file_extension": ".py",
   "mimetype": "text/x-python",
   "name": "python",
   "nbconvert_exporter": "python",
   "pygments_lexer": "ipython3",
   "version": "3.6.3"
  }
 },
 "nbformat": 4,
 "nbformat_minor": 1
}
