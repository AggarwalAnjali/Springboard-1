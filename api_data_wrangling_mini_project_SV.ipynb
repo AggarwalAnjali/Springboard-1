{
 "cells": [
  {
   "cell_type": "markdown",
   "metadata": {},
   "source": [
    "This exercise will require you to pull some data from the Qunadl API. Qaundl is currently the most widely used aggregator of financial market data."
   ]
  },
  {
   "cell_type": "markdown",
   "metadata": {},
   "source": [
    "As a first step, you will need to register a free account on the http://www.quandl.com website."
   ]
  },
  {
   "cell_type": "markdown",
   "metadata": {},
   "source": [
    "After you register, you will be provided with a unique API key, that you should store:"
   ]
  },
  {
   "cell_type": "code",
   "execution_count": 5,
   "metadata": {
    "collapsed": true
   },
   "outputs": [],
   "source": [
    "# Store the API key as a string - according to PEP8, constants are always named in all upper case\n",
    "API_KEY = 'M8xxg6XZJjEhaaWy3cu-'"
   ]
  },
  {
   "cell_type": "markdown",
   "metadata": {},
   "source": [
    "Qaundl has a large number of data sources, but, unfortunately, most of them require a Premium subscription. Still, there are also a good number of free datasets."
   ]
  },
  {
   "cell_type": "markdown",
   "metadata": {},
   "source": [
    "For this mini project, we will focus on equities data from the Frankfurt Stock Exhange (FSE), which is available for free. We'll try and analyze the stock prices of a company called Carl Zeiss Meditec, which manufactures tools for eye examinations, as well as medical lasers for laser eye surgery: https://www.zeiss.com/meditec/int/home.html. The company is listed under the stock ticker AFX_X."
   ]
  },
  {
   "cell_type": "markdown",
   "metadata": {},
   "source": [
    "You can find the detailed Quandl API instructions here: https://docs.quandl.com/docs/time-series"
   ]
  },
  {
   "cell_type": "markdown",
   "metadata": {},
   "source": [
    "While there is a dedicated Python package for connecting to the Quandl API, we would prefer that you use the *requests* package, which can be easily downloaded using *pip* or *conda*. You can find the documentation for the package here: http://docs.python-requests.org/en/master/ "
   ]
  },
  {
   "cell_type": "markdown",
   "metadata": {},
   "source": [
    "Finally, apart from the *requests* package, you are encouraged to not use any third party Python packages, such as *pandas*, and instead focus on what's available in the Python Standard Library (the *collections* module might come in handy: https://pymotw.com/3/collections/).\n",
    "Also, since you won't have access to DataFrames, you are encouraged to us Python's native data structures - preferably dictionaries, though some questions can also be answered using lists.\n",
    "You can read more on these data structures here: https://docs.python.org/3/tutorial/datastructures.html"
   ]
  },
  {
   "cell_type": "markdown",
   "metadata": {},
   "source": [
    "Keep in mind that the JSON responses you will be getting from the API map almost one-to-one to Python's dictionaries. Unfortunately, they can be very nested, so make sure you read up on indexing dictionaries in the documentation provided above."
   ]
  },
  {
   "cell_type": "code",
   "execution_count": 17,
   "metadata": {
    "collapsed": true
   },
   "outputs": [],
   "source": [
    "# First, import the relevant modules\n",
    "import json\n",
    "import requests\n",
    "import numpy as np\n",
    "import pandas as pd\n"
   ]
  },
  {
   "cell_type": "code",
   "execution_count": null,
   "metadata": {
    "collapsed": true
   },
   "outputs": [],
   "source": [
    "# Now, call the Quandl API and pull out a small sample of the data (only one day) to get a glimpse\n",
    "\n",
    "# into the JSON structure that will be returned\n"
   ]
  },
  {
   "cell_type": "code",
   "execution_count": null,
   "metadata": {
    "collapsed": true
   },
   "outputs": [],
   "source": [
    "# Inspect the JSON structure of the object you created, and take note of how nested it is,\n",
    "# as well as the overall structure\n"
   ]
  },
  {
   "cell_type": "markdown",
   "metadata": {},
   "source": [
    "These are your tasks for this mini project:\n",
    "\n",
    "1. Collect data from the Franfurt Stock Exchange, for the ticker AFX_X, for the whole year 2017 (keep in mind that the date format is YYYY-MM-DD).\n",
    "2. Convert the returned JSON object into a Python dictionary.\n",
    "3. Calculate what the highest and lowest opening prices were for the stock in this period.\n",
    "4. What was the largest change in any one day (based on High and Low price)?\n",
    "5. What was the largest change between any two days (based on Closing Price)?\n",
    "6. What was the average daily trading volume during this year?\n",
    "7. (Optional) What was the median trading volume during this year. (Note: you may need to implement your own function for calculating the median.)"
   ]
  },
  {
   "cell_type": "code",
   "execution_count": 43,
   "metadata": {
    "collapsed": true,
    "scrolled": false
   },
   "outputs": [],
   "source": [
    "url = 'https://www.quandl.com/api/v3/datasets/FSE/AFX_X.json?api_key=M8xxg6XZJjEhaaWy3cu-&start_date=2017-01-01&end_date=2017-12-31'\n",
    "data = requests.get(url)\n",
    "data_AFX_X = pd.DataFrame(data.json()['dataset']['data'])\n"
   ]
  },
  {
   "cell_type": "code",
   "execution_count": 44,
   "metadata": {
    "collapsed": true
   },
   "outputs": [],
   "source": [
    "data_AFX_X.columns= ['Date', 'Open', 'High', 'Low', 'Close', 'Change', 'Traded Volume', 'Turnover', 'Last Price of the Day', 'Daily Traded Units', 'Daily Turnover']"
   ]
  },
  {
   "cell_type": "code",
   "execution_count": 45,
   "metadata": {},
   "outputs": [
    {
     "name": "stdout",
     "output_type": "stream",
     "text": [
      "         Date   Open   High    Low  Close  Change  Traded Volume   Turnover  \\\n",
      "0  2017-12-29  51.76  51.94  51.45  51.76     NaN        34640.0  1792304.0   \n",
      "1  2017-12-28  51.65  51.82  51.43  51.60     NaN        40660.0  2099024.0   \n",
      "2  2017-12-27  51.45  51.89  50.76  51.82     NaN        57452.0  2957018.0   \n",
      "3  2017-12-22  51.05  51.50  50.92  51.32     NaN        71165.0  3641949.0   \n",
      "4  2017-12-21  51.16  51.52  50.90  51.40     NaN       120649.0  6179433.0   \n",
      "\n",
      "  Last Price of the Day Daily Traded Units Daily Turnover  \n",
      "0                  None               None           None  \n",
      "1                  None               None           None  \n",
      "2                  None               None           None  \n",
      "3                  None               None           None  \n",
      "4                  None               None           None  \n"
     ]
    }
   ],
   "source": [
    "print(data_AFX_X.head())"
   ]
  },
  {
   "cell_type": "code",
   "execution_count": 64,
   "metadata": {},
   "outputs": [
    {
     "data": {
      "text/plain": [
       "count    255.000000\n",
       "mean      43.702804\n",
       "std        4.365667\n",
       "min       34.120000\n",
       "25%       41.580000\n",
       "50%       43.550000\n",
       "75%       46.195000\n",
       "max       53.540000\n",
       "Name: High, dtype: float64"
      ]
     },
     "execution_count": 64,
     "metadata": {},
     "output_type": "execute_result"
    }
   ],
   "source": [
    "# Calculate what the highest and lowest opening prices were for the stock in this period.\n",
    "data_AFX_X.describe()['High']"
   ]
  },
  {
   "cell_type": "code",
   "execution_count": 63,
   "metadata": {},
   "outputs": [
    {
     "data": {
      "text/plain": [
       "count    255.000000\n",
       "mean      42.924373\n",
       "std        4.267225\n",
       "min       33.620000\n",
       "25%       41.045000\n",
       "50%       42.620000\n",
       "75%       45.390000\n",
       "max       52.480000\n",
       "Name: Low, dtype: float64"
      ]
     },
     "execution_count": 63,
     "metadata": {},
     "output_type": "execute_result"
    }
   ],
   "source": [
    "data_AFX_X.describe()['Low']"
   ]
  },
  {
   "cell_type": "code",
   "execution_count": 65,
   "metadata": {},
   "outputs": [
    {
     "data": {
      "text/html": [
       "<div>\n",
       "<style>\n",
       "    .dataframe thead tr:only-child th {\n",
       "        text-align: right;\n",
       "    }\n",
       "\n",
       "    .dataframe thead th {\n",
       "        text-align: left;\n",
       "    }\n",
       "\n",
       "    .dataframe tbody tr th {\n",
       "        vertical-align: top;\n",
       "    }\n",
       "</style>\n",
       "<table border=\"1\" class=\"dataframe\">\n",
       "  <thead>\n",
       "    <tr style=\"text-align: right;\">\n",
       "      <th></th>\n",
       "      <th>Open</th>\n",
       "      <th>High</th>\n",
       "      <th>Low</th>\n",
       "      <th>Close</th>\n",
       "      <th>Change</th>\n",
       "      <th>Traded Volume</th>\n",
       "      <th>Turnover</th>\n",
       "      <th>Difference</th>\n",
       "      <th>diff_rows</th>\n",
       "    </tr>\n",
       "  </thead>\n",
       "  <tbody>\n",
       "    <tr>\n",
       "      <th>count</th>\n",
       "      <td>252.000000</td>\n",
       "      <td>255.000000</td>\n",
       "      <td>255.000000</td>\n",
       "      <td>255.000000</td>\n",
       "      <td>1.00</td>\n",
       "      <td>255.000000</td>\n",
       "      <td>2.550000e+02</td>\n",
       "      <td>255.000000</td>\n",
       "      <td>254.000000</td>\n",
       "    </tr>\n",
       "    <tr>\n",
       "      <th>mean</th>\n",
       "      <td>43.344206</td>\n",
       "      <td>43.702804</td>\n",
       "      <td>42.924373</td>\n",
       "      <td>43.364157</td>\n",
       "      <td>-0.44</td>\n",
       "      <td>89124.337255</td>\n",
       "      <td>3.853589e+06</td>\n",
       "      <td>0.778431</td>\n",
       "      <td>0.062835</td>\n",
       "    </tr>\n",
       "    <tr>\n",
       "      <th>std</th>\n",
       "      <td>4.348585</td>\n",
       "      <td>4.365667</td>\n",
       "      <td>4.267225</td>\n",
       "      <td>4.321755</td>\n",
       "      <td>NaN</td>\n",
       "      <td>60441.130541</td>\n",
       "      <td>2.517807e+06</td>\n",
       "      <td>0.374060</td>\n",
       "      <td>0.529722</td>\n",
       "    </tr>\n",
       "    <tr>\n",
       "      <th>min</th>\n",
       "      <td>34.000000</td>\n",
       "      <td>34.120000</td>\n",
       "      <td>33.620000</td>\n",
       "      <td>34.060000</td>\n",
       "      <td>-0.44</td>\n",
       "      <td>45.000000</td>\n",
       "      <td>1.980000e+03</td>\n",
       "      <td>0.190000</td>\n",
       "      <td>-2.560000</td>\n",
       "    </tr>\n",
       "    <tr>\n",
       "      <th>25%</th>\n",
       "      <td>41.395000</td>\n",
       "      <td>41.580000</td>\n",
       "      <td>41.045000</td>\n",
       "      <td>41.400000</td>\n",
       "      <td>-0.44</td>\n",
       "      <td>56282.000000</td>\n",
       "      <td>2.388636e+06</td>\n",
       "      <td>0.520000</td>\n",
       "      <td>-0.190000</td>\n",
       "    </tr>\n",
       "    <tr>\n",
       "      <th>50%</th>\n",
       "      <td>43.450000</td>\n",
       "      <td>43.550000</td>\n",
       "      <td>42.620000</td>\n",
       "      <td>43.280000</td>\n",
       "      <td>-0.44</td>\n",
       "      <td>76286.000000</td>\n",
       "      <td>3.292223e+06</td>\n",
       "      <td>0.680000</td>\n",
       "      <td>0.020000</td>\n",
       "    </tr>\n",
       "    <tr>\n",
       "      <th>75%</th>\n",
       "      <td>45.857500</td>\n",
       "      <td>46.195000</td>\n",
       "      <td>45.390000</td>\n",
       "      <td>45.850000</td>\n",
       "      <td>-0.44</td>\n",
       "      <td>104479.000000</td>\n",
       "      <td>4.591904e+06</td>\n",
       "      <td>0.950000</td>\n",
       "      <td>0.325000</td>\n",
       "    </tr>\n",
       "    <tr>\n",
       "      <th>max</th>\n",
       "      <td>53.110000</td>\n",
       "      <td>53.540000</td>\n",
       "      <td>52.480000</td>\n",
       "      <td>53.090000</td>\n",
       "      <td>-0.44</td>\n",
       "      <td>670349.000000</td>\n",
       "      <td>2.591054e+07</td>\n",
       "      <td>2.810000</td>\n",
       "      <td>1.720000</td>\n",
       "    </tr>\n",
       "  </tbody>\n",
       "</table>\n",
       "</div>"
      ],
      "text/plain": [
       "             Open        High         Low       Close  Change  Traded Volume  \\\n",
       "count  252.000000  255.000000  255.000000  255.000000    1.00     255.000000   \n",
       "mean    43.344206   43.702804   42.924373   43.364157   -0.44   89124.337255   \n",
       "std      4.348585    4.365667    4.267225    4.321755     NaN   60441.130541   \n",
       "min     34.000000   34.120000   33.620000   34.060000   -0.44      45.000000   \n",
       "25%     41.395000   41.580000   41.045000   41.400000   -0.44   56282.000000   \n",
       "50%     43.450000   43.550000   42.620000   43.280000   -0.44   76286.000000   \n",
       "75%     45.857500   46.195000   45.390000   45.850000   -0.44  104479.000000   \n",
       "max     53.110000   53.540000   52.480000   53.090000   -0.44  670349.000000   \n",
       "\n",
       "           Turnover  Difference   diff_rows  \n",
       "count  2.550000e+02  255.000000  254.000000  \n",
       "mean   3.853589e+06    0.778431    0.062835  \n",
       "std    2.517807e+06    0.374060    0.529722  \n",
       "min    1.980000e+03    0.190000   -2.560000  \n",
       "25%    2.388636e+06    0.520000   -0.190000  \n",
       "50%    3.292223e+06    0.680000    0.020000  \n",
       "75%    4.591904e+06    0.950000    0.325000  \n",
       "max    2.591054e+07    2.810000    1.720000  "
      ]
     },
     "execution_count": 65,
     "metadata": {},
     "output_type": "execute_result"
    }
   ],
   "source": [
    "# largest change in any one day (based on High and Low price)?\n",
    "data_AFX_X['Difference'] = data_AFX_X['High'] - data_AFX_X['Low']\n",
    "data_AFX_X.describe()"
   ]
  },
  {
   "cell_type": "code",
   "execution_count": 68,
   "metadata": {},
   "outputs": [
    {
     "data": {
      "text/plain": [
       "-2.5599999999999952"
      ]
     },
     "execution_count": 68,
     "metadata": {},
     "output_type": "execute_result"
    }
   ],
   "source": [
    "#the largest change between any two days (based on Closing Price)?\n",
    "data_AFX_X['diff_rows'] = data_AFX_X['Close'].diff(periods=-1)\n",
    "data_AFX_X.describe()\n",
    "min(data_AFX_X['diff_rows'])"
   ]
  },
  {
   "cell_type": "code",
   "execution_count": 56,
   "metadata": {},
   "outputs": [
    {
     "data": {
      "text/plain": [
       "count       255.000000\n",
       "mean      89124.337255\n",
       "std       60441.130541\n",
       "min          45.000000\n",
       "25%       56282.000000\n",
       "50%       76286.000000\n",
       "75%      104479.000000\n",
       "max      670349.000000\n",
       "Name: Traded Volume, dtype: float64"
      ]
     },
     "execution_count": 56,
     "metadata": {},
     "output_type": "execute_result"
    }
   ],
   "source": [
    "# What was the average daily trading volume during this year?\n",
    "data_AFX_X.describe()['Traded Volume']"
   ]
  },
  {
   "cell_type": "code",
   "execution_count": 57,
   "metadata": {},
   "outputs": [
    {
     "data": {
      "text/plain": [
       "76286.0"
      ]
     },
     "execution_count": 57,
     "metadata": {},
     "output_type": "execute_result"
    }
   ],
   "source": [
    "# What was the median trading volume during this year?\n",
    "data_AFX_X.median()['Traded Volume']"
   ]
  }
 ],
 "metadata": {
  "kernelspec": {
   "display_name": "Python 3",
   "language": "python",
   "name": "python3"
  },
  "language_info": {
   "codemirror_mode": {
    "name": "ipython",
    "version": 3
   },
   "file_extension": ".py",
   "mimetype": "text/x-python",
   "name": "python",
   "nbconvert_exporter": "python",
   "pygments_lexer": "ipython3",
   "version": "3.6.3"
  }
 },
 "nbformat": 4,
 "nbformat_minor": 2
}
